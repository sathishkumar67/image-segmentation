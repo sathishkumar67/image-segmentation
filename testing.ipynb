{
 "cells": [
  {
   "cell_type": "code",
   "execution_count": 11,
   "metadata": {},
   "outputs": [],
   "source": [
    "import os\n",
    "import sys\n",
    "import random\n",
    "import numpy as np\n",
    "from PIL import Image\n",
    "import torch\n",
    "import torch.nn as nn\n",
    "import torch.nn.functional as F\n",
    "import torchvision\n",
    "import torchvision.transforms as T\n",
    "from torch.utils.data import Dataset\n",
    "from torchvision.transforms import functional as TF\n",
    "from dataclasses import dataclass\n",
    "from __future__ import annotations\n",
    "import matplotlib.pyplot as plt"
   ]
  },
  {
   "cell_type": "code",
   "execution_count": 3,
   "metadata": {},
   "outputs": [],
   "source": [
    "@dataclass\n",
    "class ImageDatasetConfig:\n",
    "    foreground_dir: str = \"shoe_dataset/\"\n",
    "    background_dir: str = \"shoe_dataset/bg/\"\n",
    "    mode: str = \"train\"\n",
    "    image_size: int = 256\n",
    "    augment: bool = True\n",
    "    augment_prob: float = 0.5\n",
    "\n",
    "img_ds_config = ImageDatasetConfig()"
   ]
  },
  {
   "cell_type": "code",
   "execution_count": 4,
   "metadata": {},
   "outputs": [
    {
     "data": {
      "text/plain": [
       "'shoe_dataset/bg/train/1.jpg'"
      ]
     },
     "execution_count": 4,
     "metadata": {},
     "output_type": "execute_result"
    }
   ],
   "source": [
    "a = list(map(lambda x: \"shoe_dataset/bg/train/\" + x, os.listdir(\"shoe_dataset/bg/train\")))\n",
    "a[0]"
   ]
  },
  {
   "cell_type": "code",
   "execution_count": 40,
   "metadata": {},
   "outputs": [],
   "source": [
    "class ImageDataset(Dataset):\n",
    "    def __init__(self, image_ds_config) -> None:\n",
    "        super().__init__()\n",
    "\n",
    "        self.foreground_directory = image_ds_config.foreground_dir\n",
    "        self.background_directory = image_ds_config.background_dir\n",
    "        self.mode = image_ds_config.mode\n",
    "        self.image_size = image_ds_config.image_size\n",
    "        self.augment = image_ds_config.augment\n",
    "        self.augment_prob = image_ds_config.augment_prob\n",
    "        self.rotation_degree = [0, 90, 180, 270]\n",
    "\n",
    "        self.train_images = list(map(lambda x: f\"{self.foreground_directory}train/{x}\", os.listdir(f\"{self.foreground_directory}/train\")))\n",
    "        self.val_images = list(map(lambda x: f\"{self.foreground_directory}val/{x}\", os.listdir(f\"{self.foreground_directory}/val\")))\n",
    "        self.test_images = list(map(lambda x: f\"{self.foreground_directory}test/{x}\", os.listdir(f\"{self.foreground_directory}/test\")))\n",
    "        self.train_background_images = list(map(lambda x: f\"{self.background_directory}train/{x}\", os.listdir(f\"{self.background_directory}/train\")))\n",
    "        self.val_background_images = list(map(lambda x: f\"{self.background_directory}val/{x}\", os.listdir(f\"{self.background_directory}/val\")))\n",
    "\n",
    "    def __getitem__(self, index):\n",
    "        return self.train_background_images\n",
    "    \n",
    "    def transform_image(self, img_path: str, augment: bool):\n",
    "        image_alpha = Image.open(img_path)\n",
    "        assert str(image_alpha.mode) == 'RGBA'\n",
    "        x, y = image_alpha.size\n",
    "        aspect_ratio = y / x\n",
    "        ch_r, ch_g, ch_b, ch_a = image_alpha.split()\n",
    "        img = Image.merge('RGB', (ch_r, ch_g, ch_b))\n",
    "        mask = ch_a\n",
    "        \n",
    "        if self.mode == \"train\":\n",
    "            bg = Image.open(self.train_background_images[random.randint(0, len(self.background_images)-1)])\n",
    "            bg = bg.resize(img.size)\n",
    "            bg.paste(img, mask=mask)\n",
    "        else:\n",
    "            bg = Image.open(self.val_background_images[random.randint(0, len(self.background_images)-1)])\n",
    "            bg = bg.resize(img.size)\n",
    "            bg.paste(img, mask=mask)\n",
    "            \n",
    "\n",
    "\n",
    "\n",
    "        if augment:\n",
    "             = list()\n"
   ]
  },
  {
   "cell_type": "code",
   "execution_count": 41,
   "metadata": {},
   "outputs": [],
   "source": [
    "image_dataset = ImageDataset(img_ds_config)"
   ]
  },
  {
   "cell_type": "code",
   "execution_count": 42,
   "metadata": {},
   "outputs": [],
   "source": [
    "a =image_dataset.__getitem__(0)"
   ]
  },
  {
   "cell_type": "code",
   "execution_count": 43,
   "metadata": {},
   "outputs": [
    {
     "data": {
      "text/plain": [
       "['shoe_dataset/bg/train/1.jpg',\n",
       " 'shoe_dataset/bg/train/10.jpg',\n",
       " 'shoe_dataset/bg/train/11.jpg',\n",
       " 'shoe_dataset/bg/train/12.jpg',\n",
       " 'shoe_dataset/bg/train/13.jpg',\n",
       " 'shoe_dataset/bg/train/14.jpg',\n",
       " 'shoe_dataset/bg/train/15.jpg',\n",
       " 'shoe_dataset/bg/train/17.jpg',\n",
       " 'shoe_dataset/bg/train/18.jpg',\n",
       " 'shoe_dataset/bg/train/19.jpg',\n",
       " 'shoe_dataset/bg/train/20.jpg',\n",
       " 'shoe_dataset/bg/train/21.jpg',\n",
       " 'shoe_dataset/bg/train/22.jpg',\n",
       " 'shoe_dataset/bg/train/23.jpg',\n",
       " 'shoe_dataset/bg/train/25.jpg',\n",
       " 'shoe_dataset/bg/train/26.jpg',\n",
       " 'shoe_dataset/bg/train/27.jpg',\n",
       " 'shoe_dataset/bg/train/28.jpg',\n",
       " 'shoe_dataset/bg/train/4.jpg',\n",
       " 'shoe_dataset/bg/train/5.jpg',\n",
       " 'shoe_dataset/bg/train/6.jpg',\n",
       " 'shoe_dataset/bg/train/7.jpg',\n",
       " 'shoe_dataset/bg/train/8.jpg']"
      ]
     },
     "execution_count": 43,
     "metadata": {},
     "output_type": "execute_result"
    }
   ],
   "source": [
    "a"
   ]
  },
  {
   "cell_type": "code",
   "execution_count": 58,
   "metadata": {},
   "outputs": [],
   "source": [
    "def transform_img(img_path, background_path: list, augment):\n",
    "    image_alpha = Image.open(img_path)\n",
    "    assert str(image_alpha.mode) == 'RGBA'\n",
    "    x, y = image_alpha.size\n",
    "    aspect_ratio = y / x\n",
    "    ch_r, ch_g, ch_b, ch_a = image_alpha.split()\n",
    "    img = Image.merge('RGB', (ch_r, ch_g, ch_b))\n",
    "    mask = ch_a\n",
    "\n",
    "    # add background    \n",
    "    bg = Image.open(background_path[random.randint(0, len(background_path)-1)])\n",
    "    bg = bg.resize(img.size)\n",
    "    bg.paste(img, mask=mask)\n",
    "\n",
    "    return img, mask, bg"
   ]
  }
 ],
 "metadata": {
  "kernelspec": {
   "display_name": "dl",
   "language": "python",
   "name": "python3"
  },
  "language_info": {
   "codemirror_mode": {
    "name": "ipython",
    "version": 3
   },
   "file_extension": ".py",
   "mimetype": "text/x-python",
   "name": "python",
   "nbconvert_exporter": "python",
   "pygments_lexer": "ipython3",
   "version": "3.11.9"
  }
 },
 "nbformat": 4,
 "nbformat_minor": 2
}
