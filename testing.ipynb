{
 "cells": [
  {
   "cell_type": "code",
   "execution_count": 76,
   "metadata": {},
   "outputs": [],
   "source": [
    "import os\n",
    "import sys\n",
    "import random\n",
    "import numpy as np\n",
    "from PIL import Image\n",
    "import torch\n",
    "import torch.nn as nn\n",
    "import torch.nn.functional as F\n",
    "import torchvision\n",
    "import torchvision.transforms as T\n",
    "from torch.utils.data import Dataset\n",
    "from torchvision.transforms import functional as TF\n",
    "from dataclasses import dataclass\n",
    "from __future__ import annotations"
   ]
  },
  {
   "cell_type": "code",
   "execution_count": 3,
   "metadata": {},
   "outputs": [],
   "source": [
    "image_size = 256"
   ]
  },
  {
   "cell_type": "code",
   "execution_count": 77,
   "metadata": {},
   "outputs": [],
   "source": [
    "@dataclass\n",
    "class Imageconfig:\n",
    "    pass\n",
    "\n",
    "img_config = Imageconfig()"
   ]
  },
  {
   "cell_type": "code",
   "execution_count": null,
   "metadata": {},
   "outputs": [],
   "source": [
    "class ImageDataset(Dataset):\n",
    "    def __init__(self, ) -> None:\n",
    "        super().__init__()"
   ]
  },
  {
   "cell_type": "code",
   "execution_count": 58,
   "metadata": {},
   "outputs": [],
   "source": [
    "def transform_img(img_path, background_path: list, augment):\n",
    "    image_alpha = Image.open(img_path)\n",
    "    assert str(image_alpha.mode) == 'RGBA'\n",
    "    x, y = image_alpha.size\n",
    "    aspect_ratio = y / x\n",
    "    ch_r, ch_g, ch_b, ch_a = image_alpha.split()\n",
    "    img = Image.merge('RGB', (ch_r, ch_g, ch_b))\n",
    "    mask = ch_a\n",
    "\n",
    "    # add background    \n",
    "    bg = Image.open(background_path[random.randint(0, len(background_path)-1)])\n",
    "    bg = bg.resize(img.size)\n",
    "    bg.paste(img, mask=mask)\n",
    "\n",
    "    return img, mask, bg"
   ]
  },
  {
   "cell_type": "code",
   "execution_count": 70,
   "metadata": {},
   "outputs": [],
   "source": [
    "img_path = \"shoe_dataset/train/1.png\"\n",
    "background_path = list(map(lambda x: \"shoe_dataset/bg/train/\" + x, os.listdir(\"shoe_dataset/bg/train\")))"
   ]
  },
  {
   "cell_type": "code",
   "execution_count": null,
   "metadata": {},
   "outputs": [],
   "source": [
    "transform = T.Compose([\n",
    "    T.Resize((image_size, image_size)),\n",
    "    T.ToTensor(),\n",
    "    T.Normalize((0.5, 0.5, 0.5), (0.5, 0.5, 0.5)),\n",
    "])"
   ]
  }
 ],
 "metadata": {
  "kernelspec": {
   "display_name": "dl",
   "language": "python",
   "name": "python3"
  },
  "language_info": {
   "codemirror_mode": {
    "name": "ipython",
    "version": 3
   },
   "file_extension": ".py",
   "mimetype": "text/x-python",
   "name": "python",
   "nbconvert_exporter": "python",
   "pygments_lexer": "ipython3",
   "version": "3.11.9"
  }
 },
 "nbformat": 4,
 "nbformat_minor": 2
}
